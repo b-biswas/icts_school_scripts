{
 "cells": [
  {
   "cell_type": "code",
   "execution_count": 20,
   "id": "47dabd3a-28ed-4754-9e58-6df4dab8cd2b",
   "metadata": {},
   "outputs": [],
   "source": [
    "import numpy as np"
   ]
  },
  {
   "cell_type": "code",
   "execution_count": 21,
   "id": "86f09c13-548a-4bbf-b204-7653618fcf2b",
   "metadata": {},
   "outputs": [],
   "source": [
    "import torch\n",
    "import torch.nn as nn"
   ]
  },
  {
   "cell_type": "code",
   "execution_count": 22,
   "id": "db72aeb6-c9ff-4a98-a174-f518381b2ab9",
   "metadata": {},
   "outputs": [],
   "source": [
    "load_model = True"
   ]
  },
  {
   "cell_type": "markdown",
   "id": "c0cbfb57-91e8-4c4e-aa52-740516fe238b",
   "metadata": {},
   "source": [
    "# load data "
   ]
  },
  {
   "cell_type": "code",
   "execution_count": 23,
   "id": "eb849900-b7fc-4f04-bbd7-c7e2e1f6ed38",
   "metadata": {},
   "outputs": [],
   "source": [
    "y_data = np.load(f\"/sps/lsst/users/bbiswas/ICTS-School/final_y.npy\")\n",
    "x_data = np.load(f\"/sps/lsst/users/bbiswas/ICTS-School/final_x.npy\")"
   ]
  },
  {
   "cell_type": "code",
   "execution_count": 24,
   "id": "ffef0805-b314-4644-9461-bb8882ea2fae",
   "metadata": {},
   "outputs": [
    {
     "data": {
      "text/plain": [
       "(3521, 7)"
      ]
     },
     "execution_count": 24,
     "metadata": {},
     "output_type": "execute_result"
    }
   ],
   "source": [
    "x_data.shape"
   ]
  },
  {
   "cell_type": "code",
   "execution_count": 25,
   "id": "93fe4964-21ba-4469-aee4-c527c3c435c2",
   "metadata": {},
   "outputs": [],
   "source": [
    "#y_data = np.load(\"/sps/lsst/users/bbiswas/ICTS-School/data/dv_output.npy\")\n",
    "#x_data = np.load(\"/sps/lsst/users/bbiswas/ICTS-School/data/training_params.npy\")"
   ]
  },
  {
   "cell_type": "code",
   "execution_count": 26,
   "id": "118840df-7b1f-427a-9c00-4cf55ea02a2b",
   "metadata": {},
   "outputs": [],
   "source": [
    "DES_Y3_Cov = np.loadtxt(\"projects/des_y3/data/cov_shear_final.txt\")\n",
    "DES_Y3_data = np.loadtxt(\"projects/des_y3/data/Y3_shear_final.txt\")"
   ]
  },
  {
   "cell_type": "code",
   "execution_count": 27,
   "id": "14cbd362-9cb6-42a8-9fad-e6321b2b6795",
   "metadata": {},
   "outputs": [
    {
     "data": {
      "text/plain": [
       "(810000, 3)"
      ]
     },
     "execution_count": 27,
     "metadata": {},
     "output_type": "execute_result"
    }
   ],
   "source": [
    "DES_Y3_Cov.shape"
   ]
  },
  {
   "cell_type": "markdown",
   "id": "d8b8ed43-252f-4937-b5a3-10bfd727ef73",
   "metadata": {},
   "source": [
    "# Reshape cov matrix"
   ]
  },
  {
   "cell_type": "code",
   "execution_count": 28,
   "id": "1ee834b5-bd42-4e83-bb68-1ed43c2b14fb",
   "metadata": {},
   "outputs": [],
   "source": [
    "output_dims=900\n",
    "def get_full_cov(cov_file):\n",
    "    print(\"Getting covariance...\")\n",
    "    full_cov = np.loadtxt(cov_file)\n",
    "    cov = np.zeros((output_dims, output_dims))\n",
    "    cov_scenario = full_cov.shape[1]\n",
    "\n",
    "    for line in full_cov:\n",
    "        i = int(line[0])\n",
    "        j = int(line[1])\n",
    "\n",
    "        if(cov_scenario==3):\n",
    "            cov_ij = line[2]\n",
    "        elif(cov_scenario==10):\n",
    "            cov_g_block  = line[8]\n",
    "            cov_ng_block = line[9]\n",
    "            cov_ij = cov_g_block + cov_ng_block\n",
    "\n",
    "        cov[i,j] = cov_ij\n",
    "        cov[j,i] = cov_ij\n",
    "\n",
    "    return cov"
   ]
  },
  {
   "cell_type": "code",
   "execution_count": 29,
   "id": "cda3ebef-d95c-4c45-ab12-6858a27b1629",
   "metadata": {},
   "outputs": [
    {
     "name": "stdout",
     "output_type": "stream",
     "text": [
      "Getting covariance...\n"
     ]
    }
   ],
   "source": [
    "cov = get_full_cov(\"projects/des_y3/data/cov_shear_final.txt\")"
   ]
  },
  {
   "cell_type": "markdown",
   "id": "adc4d733-362e-44da-ad7e-fd6e79bf66c0",
   "metadata": {},
   "source": [
    "# extract shear-shear data"
   ]
  },
  {
   "cell_type": "code",
   "execution_count": 30,
   "id": "1f72d29c-5f6c-4996-97ab-6f723feff00f",
   "metadata": {},
   "outputs": [],
   "source": [
    "shear_shear_cov = cov[:400, :400]\n",
    "shear_data_y3 = DES_Y3_data[:400, 1]\n",
    "y_data_shear = y_data[:, :400]"
   ]
  },
  {
   "cell_type": "markdown",
   "id": "b899f226-b568-4cc5-a3bd-12ff5a65ebff",
   "metadata": {},
   "source": [
    "# Compute Chi sq"
   ]
  },
  {
   "cell_type": "code",
   "execution_count": 31,
   "id": "1f10137f-5208-4958-a341-ef49182b5bb2",
   "metadata": {},
   "outputs": [],
   "source": [
    "def compute_chi_sq(delta, shear_shear_cov_inv):\n",
    "\n",
    "    chi_sq=delta.T @ shear_shear_cov_inv @ delta\n",
    "    \n",
    "    return chi_sq"
   ]
  },
  {
   "cell_type": "code",
   "execution_count": 32,
   "id": "2a493c6d-c936-4c70-944a-9cb3e06f6c74",
   "metadata": {},
   "outputs": [],
   "source": [
    "shear_shear_cov_inv = np.linalg.inv(shear_shear_cov)\n",
    "chi_sq = []\n",
    "for i in range(len(y_data_shear)):\n",
    "    delta = y_data_shear[i] - shear_data_y3\n",
    "    chi_sq.append(compute_chi_sq(delta, shear_shear_cov_inv))\n",
    "    \n",
    "chi_sq=np.array(chi_sq)"
   ]
  },
  {
   "cell_type": "markdown",
   "id": "b85b9aca-887e-4239-a3ad-5b65ff6ff3e4",
   "metadata": {},
   "source": [
    "# plot and cut chi_sq"
   ]
  },
  {
   "cell_type": "code",
   "execution_count": 33,
   "id": "87e811fd-5f40-4df6-8bad-8a77285c301f",
   "metadata": {},
   "outputs": [
    {
     "data": {
      "text/plain": [
       "Text(0, 0.5, 'frequency')"
      ]
     },
     "execution_count": 33,
     "metadata": {},
     "output_type": "execute_result"
    },
    {
     "data": {
      "image/png": "[encoded data removed]",
      "text/plain": [
       "<Figure size 640x480 with 1 Axes>"
      ]
     },
     "metadata": {},
     "output_type": "display_data"
    }
   ],
   "source": [
    "import matplotlib.pyplot as plt\n",
    "plt.hist(chi_sq);\n",
    "plt.xlabel(\"$\\chi^2$\")\n",
    "plt.ylabel(\"frequency\")"
   ]
  },
  {
   "cell_type": "markdown",
   "id": "efe880b3-25b1-45db-918e-2ad51b7533d1",
   "metadata": {},
   "source": [
    "# Define NN module "
   ]
  },
  {
   "cell_type": "code",
   "execution_count": 35,
   "id": "50a913f6-dfea-4e2c-a4e8-995c92e79342",
   "metadata": {},
   "outputs": [],
   "source": [
    "class TwoHiddenLayerNN(nn.Module):\n",
    "    def __init__(self, input_dim, output_dim, nodes):\n",
    "        super(TwoHiddenLayerNN, self).__init__()\n",
    "        self.model = nn.Sequential(nn.Linear(input_dim, 1024), \n",
    "                                   nn.ReLU(),\n",
    "                                   nn.Linear(1024, 1024), \n",
    "                                   nn.ReLU(),\n",
    "                                   nn.Linear(1024, output_dim), \n",
    "        )\n",
    "\n",
    "    def forward(self, x):    \n",
    "        return self.model(x)"
   ]
  },
  {
   "cell_type": "code",
   "execution_count": 36,
   "id": "cb099c66-0c7f-45d3-9aa4-1ed1d2ac70e7",
   "metadata": {},
   "outputs": [],
   "source": [
    "model     = TwoHiddenLayerNN(7, 400, 4)"
   ]
  },
  {
   "cell_type": "code",
   "execution_count": 37,
   "id": "c8cc884b-7196-4d3d-903f-67509bb7b002",
   "metadata": {},
   "outputs": [],
   "source": [
    "learning_rate = 0.001\n",
    "optimizer = torch.optim.Adam(model.parameters(), lr=learning_rate)"
   ]
  },
  {
   "cell_type": "code",
   "execution_count": 38,
   "id": "14247cdc-a187-4e56-8a71-8884100f1a91",
   "metadata": {},
   "outputs": [],
   "source": [
    "norm = np.load(\"/sps/lsst/users/bbiswas/ICTS-School/norms.npy\", allow_pickle=True).item()"
   ]
  },
  {
   "cell_type": "code",
   "execution_count": 39,
   "id": "db511467-751b-4318-ab7c-aa1422648c0b",
   "metadata": {},
   "outputs": [
    {
     "data": {
      "text/plain": [
       "array([2.35153000e+00, 9.68236253e-01, 7.14129226e+01, 5.07577486e-02,\n",
       "       2.52832324e-01, 1.90734405e-01, 4.43486925e-01])"
      ]
     },
     "execution_count": 39,
     "metadata": {},
     "output_type": "execute_result"
    }
   ],
   "source": [
    "norm['x_mean']"
   ]
  },
  {
   "cell_type": "code",
   "execution_count": 40,
   "id": "eba00baf-a08e-4915-bcd8-a669b3862874",
   "metadata": {},
   "outputs": [],
   "source": [
    "def gaussian_likelihood(y_actual, y_pred, cov, y_mean, y_std):\n",
    "    \n",
    "    y = y_actual*y_std + y_mean\n",
    "    y_pred_unnorm = y_pred*y_std + y_mean\n",
    "    \n",
    "    dist = torch.distributions.multivariate_normal.MultivariateNormal(\n",
    "        loc=y,\n",
    "        covariance_matrix=cov,\n",
    "    )\n",
    "    log_pxz = torch.mean(dist.log_prob(y_pred_unnorm))\n",
    "    return -log_pxz"
   ]
  },
  {
   "cell_type": "code",
   "execution_count": 41,
   "id": "883fde53-d273-4851-a322-a4530bfe99fe",
   "metadata": {},
   "outputs": [],
   "source": [
    "import random"
   ]
  },
  {
   "cell_type": "code",
   "execution_count": 42,
   "id": "6ef99983-c196-4c53-8f01-03899537e0e8",
   "metadata": {},
   "outputs": [],
   "source": [
    "loss2 = nn.MSELoss()"
   ]
  },
  {
   "cell_type": "code",
   "execution_count": 43,
   "id": "f8364249-e145-4e7c-8aae-717a98b7323c",
   "metadata": {
    "tags": []
   },
   "outputs": [],
   "source": [
    "if load_model:\n",
    "    em_model = TwoHiddenLayerNN(7, 400, 0)\n",
    "    em_model.load_state_dict(torch.load(\"trainedmodel\"))\n",
    "    em_model.eval()\n",
    "\n",
    "else:\n",
    "    n_iters = 50000\n",
    "\n",
    "    for iteration in range(n_iters):\n",
    "\n",
    "        # create a batch of size 500\n",
    "        batch_size = 500\n",
    "        batch_index = random.sample(list(np.arange(len(x_data_norm))), batch_size)\n",
    "\n",
    "        # predict y\n",
    "        y_pred = model(torch.from_numpy(x_data_norm).to(torch.float32))\n",
    "\n",
    "        # compute loss\n",
    "        y_actual = torch.from_numpy(y_data_norm).to(torch.float32)\n",
    "        #l = gaussian_likelihood(y_actual, y_pred, cov = torch.tensor(torch.ones(batch_size, 400, 400) * cov[:400, :400]), y_mean=torch.tensor(norm['y_mean']), y_std=torch.tensor(norm['y_std']))\n",
    "        l = loss2(y_actual, y_pred)\n",
    "\n",
    "        # gradient and step\n",
    "        l.backward()\n",
    "        optimizer.step()\n",
    "        optimizer.zero_grad()    \n",
    "\n",
    "        if (iteration % 10)==0:\n",
    "            print(\"iteration: %d, \\t loss: %.3e\"%(iteration, l))\n",
    "     \n",
    "    torch.save(model.state_dict(), \"trainedmodel\")"
   ]
  },
  {
   "cell_type": "code",
   "execution_count": 44,
   "id": "b747d0e6-88d8-4090-bf35-c1ba4e0a2239",
   "metadata": {},
   "outputs": [
    {
     "data": {
      "image/png": "[encoded data removed]",
      "text/plain": [
       "<Figure size 640x480 with 1 Axes>"
      ]
     },
     "metadata": {},
     "output_type": "display_data"
    }
   ],
   "source": [
    "y_pred = model(torch.from_numpy(x_data[5]).to(torch.float32))\n",
    "\n",
    "plt.plot((y_pred.detach().numpy()*norm['y_std'] + norm['y_mean'])[20:40])\n",
    "plt.plot((y_data[5]*norm['y_std'] + norm['y_mean'])[20:40])\n",
    "plt.xscale('log')\n",
    "plt.yscale('log')"
   ]
  },
  {
   "cell_type": "code",
   "execution_count": null,
   "id": "a972b9a6-3cd0-488f-a3bf-614946948974",
   "metadata": {},
   "outputs": [],
   "source": []
  },
  {
   "cell_type": "markdown",
   "id": "cb6653d1-3cd1-4436-b636-9a6c13e7e7e2",
   "metadata": {},
   "source": [
    "# Test chi sq"
   ]
  },
  {
   "cell_type": "code",
   "execution_count": 48,
   "id": "e17f57f7-d886-4d1d-adee-b146630f25e6",
   "metadata": {
    "tags": []
   },
   "outputs": [],
   "source": [
    "y_pred_normed = model(torch.from_numpy(x_data).to(torch.float32))\n",
    "y_pred_actual = y_pred.detach().numpy()*norm['y_std'] + norm['y_mean']\n",
    "y_data_actual = y_data*norm['y_std'] + norm['y_mean']\n",
    "\n",
    "\n",
    "# for i in range(len(x_data)):\n",
    "#     ()[:20])\n",
    "# plt.plot(()[:20])"
   ]
  },
  {
   "cell_type": "code",
   "execution_count": 49,
   "id": "2fb0a357-94c3-4a6d-b52b-1eb9d5aef200",
   "metadata": {},
   "outputs": [
    {
     "data": {
      "image/png": "[encoded data removed]",
      "text/plain": [
       "<Figure size 640x480 with 1 Axes>"
      ]
     },
     "metadata": {},
     "output_type": "display_data"
    }
   ],
   "source": [
    "nn_chi_sqs = []\n",
    "delta = y_data_actual - y_pred_actual\n",
    "\n",
    "for i in range(len(delta)):\n",
    "    nn_chi_sqs.append(compute_chi_sq(delta[i], shear_shear_cov_inv))\n",
    "    \n",
    "nn_chi_sqs = np.array(nn_chi_sqs)\n",
    "plt.hist(nn_chi_sqs, bins=100);"
   ]
  },
  {
   "cell_type": "code",
   "execution_count": 50,
   "id": "57267dcc-be13-45ab-964e-6f94939e5a54",
   "metadata": {},
   "outputs": [
    {
     "data": {
      "image/png": "[encoded data removed]",
      "text/plain": [
       "<Figure size 640x480 with 1 Axes>"
      ]
     },
     "metadata": {},
     "output_type": "display_data"
    }
   ],
   "source": [
    "chi_sqs_y3 = []\n",
    "delta_y3 = y_data_actual - shear_data_y3\n",
    "for i in range(len(delta)):\n",
    "    chi_sqs_y3.append(compute_chi_sq(delta_y3[i], shear_shear_cov_inv))\n",
    "    \n",
    "chi_sqs_y3 = np.array(chi_sqs_y3)\n",
    "plt.hist(chi_sqs_y3, bins=50);"
   ]
  },
  {
   "cell_type": "code",
   "execution_count": null,
   "id": "5c2bd685-e454-4eca-a612-6237921215b4",
   "metadata": {},
   "outputs": [],
   "source": [
    "plt.scatter(chi_sqs_y3, nn_chi_sqs)\n",
    "\n",
    "plt.ylabel(\"$\\chi^2_{NN}$\")\n",
    "plt.xlabel(\"$\\chi^2_{DES}$\")"
   ]
  },
  {
   "cell_type": "code",
   "execution_count": null,
   "id": "968705b1-9db4-4af4-83b3-18dd194adc97",
   "metadata": {},
   "outputs": [],
   "source": []
  },
  {
   "cell_type": "code",
   "execution_count": null,
   "id": "86bedf1c-5331-4704-ba0c-3fa0198dfd5b",
   "metadata": {},
   "outputs": [],
   "source": []
  }
 ],
 "metadata": {
  "kernelspec": {
   "display_name": "cocoa",
   "language": "python",
   "name": "cocoa"
  },
  "language_info": {
   "codemirror_mode": {
    "name": "ipython",
    "version": 3
   },
   "file_extension": ".py",
   "mimetype": "text/x-python",
   "name": "python",
   "nbconvert_exporter": "python",
   "pygments_lexer": "ipython3",
   "version": "3.7.13"
  }
 },
 "nbformat": 4,
 "nbformat_minor": 5
}
